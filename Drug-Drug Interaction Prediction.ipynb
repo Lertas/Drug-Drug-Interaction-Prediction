{
 "cells": [
  {
   "cell_type": "code",
   "execution_count": 1,
   "metadata": {},
   "outputs": [],
   "source": [
    "#Lertas Giorgos \n",
    "#import libraries\n",
    "import pandas as pd\n",
    "import numpy as np\n",
    "import matplotlib.pyplot as plt\n",
    "import seaborn as sns\n",
    "import warnings\n",
    "warnings.filterwarnings('ignore')\n",
    "%matplotlib inline"
   ]
  },
  {
   "cell_type": "markdown",
   "metadata": {},
   "source": [
    "### 1.Protein-protein interaction network"
   ]
  },
  {
   "cell_type": "code",
   "execution_count": 2,
   "metadata": {},
   "outputs": [
    {
     "data": {
      "text/html": [
       "<div>\n",
       "<style scoped>\n",
       "    .dataframe tbody tr th:only-of-type {\n",
       "        vertical-align: middle;\n",
       "    }\n",
       "\n",
       "    .dataframe tbody tr th {\n",
       "        vertical-align: top;\n",
       "    }\n",
       "\n",
       "    .dataframe thead th {\n",
       "        text-align: right;\n",
       "    }\n",
       "</style>\n",
       "<table border=\"1\" class=\"dataframe\">\n",
       "  <thead>\n",
       "    <tr style=\"text-align: right;\">\n",
       "      <th></th>\n",
       "      <th>Gene 1</th>\n",
       "      <th>Gene 2</th>\n",
       "    </tr>\n",
       "  </thead>\n",
       "  <tbody>\n",
       "    <tr>\n",
       "      <th>0</th>\n",
       "      <td>114787</td>\n",
       "      <td>375519</td>\n",
       "    </tr>\n",
       "    <tr>\n",
       "      <th>1</th>\n",
       "      <td>114787</td>\n",
       "      <td>285613</td>\n",
       "    </tr>\n",
       "    <tr>\n",
       "      <th>2</th>\n",
       "      <td>114787</td>\n",
       "      <td>7448</td>\n",
       "    </tr>\n",
       "    <tr>\n",
       "      <th>3</th>\n",
       "      <td>114787</td>\n",
       "      <td>4914</td>\n",
       "    </tr>\n",
       "    <tr>\n",
       "      <th>4</th>\n",
       "      <td>114787</td>\n",
       "      <td>51343</td>\n",
       "    </tr>\n",
       "    <tr>\n",
       "      <th>...</th>\n",
       "      <td>...</td>\n",
       "      <td>...</td>\n",
       "    </tr>\n",
       "    <tr>\n",
       "      <th>715607</th>\n",
       "      <td>5634</td>\n",
       "      <td>5636</td>\n",
       "    </tr>\n",
       "    <tr>\n",
       "      <th>715608</th>\n",
       "      <td>5635</td>\n",
       "      <td>5636</td>\n",
       "    </tr>\n",
       "    <tr>\n",
       "      <th>715609</th>\n",
       "      <td>5635</td>\n",
       "      <td>5631</td>\n",
       "    </tr>\n",
       "    <tr>\n",
       "      <th>715610</th>\n",
       "      <td>5636</td>\n",
       "      <td>5631</td>\n",
       "    </tr>\n",
       "    <tr>\n",
       "      <th>715611</th>\n",
       "      <td>8480</td>\n",
       "      <td>8487</td>\n",
       "    </tr>\n",
       "  </tbody>\n",
       "</table>\n",
       "<p>715612 rows × 2 columns</p>\n",
       "</div>"
      ],
      "text/plain": [
       "        Gene 1  Gene 2\n",
       "0       114787  375519\n",
       "1       114787  285613\n",
       "2       114787    7448\n",
       "3       114787    4914\n",
       "4       114787   51343\n",
       "...        ...     ...\n",
       "715607    5634    5636\n",
       "715608    5635    5636\n",
       "715609    5635    5631\n",
       "715610    5636    5631\n",
       "715611    8480    8487\n",
       "\n",
       "[715612 rows x 2 columns]"
      ]
     },
     "execution_count": 2,
     "metadata": {},
     "output_type": "execute_result"
    }
   ],
   "source": [
    "ppi=pd.read_csv('data Leskovec/bio-decagon-ppi.csv')\n",
    "ppi"
   ]
  },
  {
   "cell_type": "code",
   "execution_count": 3,
   "metadata": {},
   "outputs": [
    {
     "data": {
      "text/plain": [
       "351       1986\n",
       "1994      1493\n",
       "6233      1228\n",
       "2885      1106\n",
       "4609      1049\n",
       "          ... \n",
       "137133       1\n",
       "138241       1\n",
       "85349        1\n",
       "56663        1\n",
       "6345         1\n",
       "Name: Gene 1, Length: 17544, dtype: int64"
      ]
     },
     "execution_count": 3,
     "metadata": {},
     "output_type": "execute_result"
    }
   ],
   "source": [
    "ppi['Gene 1'].value_counts()"
   ]
  },
  {
   "cell_type": "code",
   "execution_count": 4,
   "metadata": {},
   "outputs": [
    {
     "data": {
      "text/plain": [
       "4914      1825\n",
       "653269    1431\n",
       "728378    1392\n",
       "653781    1266\n",
       "7311      1132\n",
       "          ... \n",
       "341116       1\n",
       "153745       1\n",
       "54979        1\n",
       "259239       1\n",
       "340571       1\n",
       "Name: Gene 2, Length: 17472, dtype: int64"
      ]
     },
     "execution_count": 4,
     "metadata": {},
     "output_type": "execute_result"
    }
   ],
   "source": [
    "ppi['Gene 2'].value_counts()"
   ]
  },
  {
   "cell_type": "markdown",
   "metadata": {},
   "source": [
    "The network has 17544 different proteins in the first column as Gene 1 and 17472 in the second as Gene 2. Also, it has 715612  physical interactions or observations."
   ]
  },
  {
   "cell_type": "markdown",
   "metadata": {},
   "source": [
    "### 2.Drug-target protein associations"
   ]
  },
  {
   "cell_type": "code",
   "execution_count": 5,
   "metadata": {},
   "outputs": [
    {
     "data": {
      "text/html": [
       "<div>\n",
       "<style scoped>\n",
       "    .dataframe tbody tr th:only-of-type {\n",
       "        vertical-align: middle;\n",
       "    }\n",
       "\n",
       "    .dataframe tbody tr th {\n",
       "        vertical-align: top;\n",
       "    }\n",
       "\n",
       "    .dataframe thead th {\n",
       "        text-align: right;\n",
       "    }\n",
       "</style>\n",
       "<table border=\"1\" class=\"dataframe\">\n",
       "  <thead>\n",
       "    <tr style=\"text-align: right;\">\n",
       "      <th></th>\n",
       "      <th>STITCH</th>\n",
       "      <th>Gene</th>\n",
       "    </tr>\n",
       "  </thead>\n",
       "  <tbody>\n",
       "    <tr>\n",
       "      <th>0</th>\n",
       "      <td>CID000003488</td>\n",
       "      <td>1559</td>\n",
       "    </tr>\n",
       "    <tr>\n",
       "      <th>1</th>\n",
       "      <td>CID000003488</td>\n",
       "      <td>8647</td>\n",
       "    </tr>\n",
       "    <tr>\n",
       "      <th>2</th>\n",
       "      <td>CID000077992</td>\n",
       "      <td>3351</td>\n",
       "    </tr>\n",
       "    <tr>\n",
       "      <th>3</th>\n",
       "      <td>CID000077992</td>\n",
       "      <td>3350</td>\n",
       "    </tr>\n",
       "    <tr>\n",
       "      <th>4</th>\n",
       "      <td>CID000077992</td>\n",
       "      <td>3352</td>\n",
       "    </tr>\n",
       "    <tr>\n",
       "      <th>...</th>\n",
       "      <td>...</td>\n",
       "      <td>...</td>\n",
       "    </tr>\n",
       "    <tr>\n",
       "      <th>18685</th>\n",
       "      <td>CID000005152</td>\n",
       "      <td>8484</td>\n",
       "    </tr>\n",
       "    <tr>\n",
       "      <th>18686</th>\n",
       "      <td>CID000005152</td>\n",
       "      <td>81491</td>\n",
       "    </tr>\n",
       "    <tr>\n",
       "      <th>18687</th>\n",
       "      <td>CID000005152</td>\n",
       "      <td>83551</td>\n",
       "    </tr>\n",
       "    <tr>\n",
       "      <th>18688</th>\n",
       "      <td>CID000005152</td>\n",
       "      <td>680</td>\n",
       "    </tr>\n",
       "    <tr>\n",
       "      <th>18689</th>\n",
       "      <td>CID000005152</td>\n",
       "      <td>11255</td>\n",
       "    </tr>\n",
       "  </tbody>\n",
       "</table>\n",
       "<p>18690 rows × 2 columns</p>\n",
       "</div>"
      ],
      "text/plain": [
       "             STITCH   Gene\n",
       "0      CID000003488   1559\n",
       "1      CID000003488   8647\n",
       "2      CID000077992   3351\n",
       "3      CID000077992   3350\n",
       "4      CID000077992   3352\n",
       "...             ...    ...\n",
       "18685  CID000005152   8484\n",
       "18686  CID000005152  81491\n",
       "18687  CID000005152  83551\n",
       "18688  CID000005152    680\n",
       "18689  CID000005152  11255\n",
       "\n",
       "[18690 rows x 2 columns]"
      ]
     },
     "execution_count": 5,
     "metadata": {},
     "output_type": "execute_result"
    }
   ],
   "source": [
    "targets=pd.read_csv('data Leskovec/bio-decagon-targets.csv')\n",
    "targets"
   ]
  },
  {
   "cell_type": "code",
   "execution_count": 6,
   "metadata": {},
   "outputs": [
    {
     "data": {
      "text/plain": [
       "CID000000271    2840\n",
       "CID005329102     253\n",
       "CID000002801     206\n",
       "CID000002818     206\n",
       "CID000004543     199\n",
       "                ... \n",
       "CID000003325       1\n",
       "CID000004046       1\n",
       "CID000004499       1\n",
       "CID000003878       1\n",
       "CID000004723       1\n",
       "Name: STITCH, Length: 284, dtype: int64"
      ]
     },
     "execution_count": 6,
     "metadata": {},
     "output_type": "execute_result"
    }
   ],
   "source": [
    "targets.STITCH.value_counts()"
   ]
  },
  {
   "cell_type": "code",
   "execution_count": 7,
   "metadata": {},
   "outputs": [
    {
     "data": {
      "text/plain": [
       "3356      94\n",
       "3357      89\n",
       "151       87\n",
       "3274      86\n",
       "150       86\n",
       "          ..\n",
       "794        1\n",
       "2811       1\n",
       "10975      1\n",
       "2779       1\n",
       "133121     1\n",
       "Name: Gene, Length: 3648, dtype: int64"
      ]
     },
     "execution_count": 7,
     "metadata": {},
     "output_type": "execute_result"
    }
   ],
   "source": [
    "targets.Gene.value_counts()"
   ]
  },
  {
   "cell_type": "markdown",
   "metadata": {},
   "source": [
    "This association has 284 diffent drugs as STITCH (Search Tool for InTeractions of CHemicals) and 3648 different proteins. The matrix has 18690 instances."
   ]
  },
  {
   "cell_type": "markdown",
   "metadata": {},
   "source": [
    "### 3.Drug-target protein associations culled from several curated databases"
   ]
  },
  {
   "cell_type": "code",
   "execution_count": 8,
   "metadata": {},
   "outputs": [
    {
     "data": {
      "text/html": [
       "<div>\n",
       "<style scoped>\n",
       "    .dataframe tbody tr th:only-of-type {\n",
       "        vertical-align: middle;\n",
       "    }\n",
       "\n",
       "    .dataframe tbody tr th {\n",
       "        vertical-align: top;\n",
       "    }\n",
       "\n",
       "    .dataframe thead th {\n",
       "        text-align: right;\n",
       "    }\n",
       "</style>\n",
       "<table border=\"1\" class=\"dataframe\">\n",
       "  <thead>\n",
       "    <tr style=\"text-align: right;\">\n",
       "      <th></th>\n",
       "      <th>STITCH</th>\n",
       "      <th>Gene</th>\n",
       "    </tr>\n",
       "  </thead>\n",
       "  <tbody>\n",
       "    <tr>\n",
       "      <th>0</th>\n",
       "      <td>CID000060752</td>\n",
       "      <td>3757</td>\n",
       "    </tr>\n",
       "    <tr>\n",
       "      <th>1</th>\n",
       "      <td>CID006918155</td>\n",
       "      <td>2908</td>\n",
       "    </tr>\n",
       "    <tr>\n",
       "      <th>2</th>\n",
       "      <td>CID103052762</td>\n",
       "      <td>3359</td>\n",
       "    </tr>\n",
       "    <tr>\n",
       "      <th>3</th>\n",
       "      <td>CID023668479</td>\n",
       "      <td>1230</td>\n",
       "    </tr>\n",
       "    <tr>\n",
       "      <th>4</th>\n",
       "      <td>CID000028864</td>\n",
       "      <td>1269</td>\n",
       "    </tr>\n",
       "    <tr>\n",
       "      <th>...</th>\n",
       "      <td>...</td>\n",
       "      <td>...</td>\n",
       "    </tr>\n",
       "    <tr>\n",
       "      <th>131029</th>\n",
       "      <td>CID000092721</td>\n",
       "      <td>3426</td>\n",
       "    </tr>\n",
       "    <tr>\n",
       "      <th>131030</th>\n",
       "      <td>CID000092721</td>\n",
       "      <td>8858</td>\n",
       "    </tr>\n",
       "    <tr>\n",
       "      <th>131031</th>\n",
       "      <td>CID000092721</td>\n",
       "      <td>10942</td>\n",
       "    </tr>\n",
       "    <tr>\n",
       "      <th>131032</th>\n",
       "      <td>CID100115355</td>\n",
       "      <td>3242</td>\n",
       "    </tr>\n",
       "    <tr>\n",
       "      <th>131033</th>\n",
       "      <td>CID100115355</td>\n",
       "      <td>84842</td>\n",
       "    </tr>\n",
       "  </tbody>\n",
       "</table>\n",
       "<p>131034 rows × 2 columns</p>\n",
       "</div>"
      ],
      "text/plain": [
       "              STITCH   Gene\n",
       "0       CID000060752   3757\n",
       "1       CID006918155   2908\n",
       "2       CID103052762   3359\n",
       "3       CID023668479   1230\n",
       "4       CID000028864   1269\n",
       "...              ...    ...\n",
       "131029  CID000092721   3426\n",
       "131030  CID000092721   8858\n",
       "131031  CID000092721  10942\n",
       "131032  CID100115355   3242\n",
       "131033  CID100115355  84842\n",
       "\n",
       "[131034 rows x 2 columns]"
      ]
     },
     "execution_count": 8,
     "metadata": {},
     "output_type": "execute_result"
    }
   ],
   "source": [
    "targets_all=pd.read_csv('data Leskovec/bio-decagon-targets-all.csv')\n",
    "targets_all"
   ]
  },
  {
   "cell_type": "code",
   "execution_count": 9,
   "metadata": {},
   "outputs": [
    {
     "data": {
      "text/plain": [
       "CID000000753    3812\n",
       "CID100000753    3812\n",
       "CID100000312    2921\n",
       "CID000023994    2867\n",
       "CID100023994    2866\n",
       "                ... \n",
       "CID000077993       1\n",
       "CID100005718       1\n",
       "CID100077993       1\n",
       "CID100004493       1\n",
       "CID116129617       1\n",
       "Name: STITCH, Length: 1774, dtype: int64"
      ]
     },
     "execution_count": 9,
     "metadata": {},
     "output_type": "execute_result"
    }
   ],
   "source": [
    "targets_all.STITCH.value_counts()"
   ]
  },
  {
   "cell_type": "code",
   "execution_count": 10,
   "metadata": {},
   "outputs": [
    {
     "data": {
      "text/plain": [
       "3356     438\n",
       "3358     422\n",
       "3357     420\n",
       "3350     416\n",
       "150      412\n",
       "        ... \n",
       "5866       1\n",
       "55619      1\n",
       "2309       1\n",
       "324        1\n",
       "3592       1\n",
       "Name: Gene, Length: 7795, dtype: int64"
      ]
     },
     "execution_count": 10,
     "metadata": {},
     "output_type": "execute_result"
    }
   ],
   "source": [
    "targets_all.Gene.value_counts()"
   ]
  },
  {
   "cell_type": "markdown",
   "metadata": {},
   "source": [
    "This association has more drugs than before, 1774 drugs as STITCH (Search Tool for InTeractions of CHemicals) and 7795 different proteins. Also, the dataframe has 131034 instances."
   ]
  },
  {
   "cell_type": "markdown",
   "metadata": {},
   "source": [
    "### 4.Polypharmacy side effects in the form of (drug A, side effect type, drug B) triples."
   ]
  },
  {
   "cell_type": "code",
   "execution_count": 11,
   "metadata": {},
   "outputs": [
    {
     "data": {
      "text/html": [
       "<div>\n",
       "<style scoped>\n",
       "    .dataframe tbody tr th:only-of-type {\n",
       "        vertical-align: middle;\n",
       "    }\n",
       "\n",
       "    .dataframe tbody tr th {\n",
       "        vertical-align: top;\n",
       "    }\n",
       "\n",
       "    .dataframe thead th {\n",
       "        text-align: right;\n",
       "    }\n",
       "</style>\n",
       "<table border=\"1\" class=\"dataframe\">\n",
       "  <thead>\n",
       "    <tr style=\"text-align: right;\">\n",
       "      <th></th>\n",
       "      <th>STITCH 1</th>\n",
       "      <th>STITCH 2</th>\n",
       "      <th>Polypharmacy Side Effect</th>\n",
       "      <th>Side Effect Name</th>\n",
       "    </tr>\n",
       "  </thead>\n",
       "  <tbody>\n",
       "    <tr>\n",
       "      <th>0</th>\n",
       "      <td>CID000002173</td>\n",
       "      <td>CID000003345</td>\n",
       "      <td>C0151714</td>\n",
       "      <td>hypermagnesemia</td>\n",
       "    </tr>\n",
       "    <tr>\n",
       "      <th>1</th>\n",
       "      <td>CID000002173</td>\n",
       "      <td>CID000003345</td>\n",
       "      <td>C0035344</td>\n",
       "      <td>retinopathy of prematurity</td>\n",
       "    </tr>\n",
       "    <tr>\n",
       "      <th>2</th>\n",
       "      <td>CID000002173</td>\n",
       "      <td>CID000003345</td>\n",
       "      <td>C0004144</td>\n",
       "      <td>atelectasis</td>\n",
       "    </tr>\n",
       "    <tr>\n",
       "      <th>3</th>\n",
       "      <td>CID000002173</td>\n",
       "      <td>CID000003345</td>\n",
       "      <td>C0002063</td>\n",
       "      <td>alkalosis</td>\n",
       "    </tr>\n",
       "    <tr>\n",
       "      <th>4</th>\n",
       "      <td>CID000002173</td>\n",
       "      <td>CID000003345</td>\n",
       "      <td>C0004604</td>\n",
       "      <td>Back Ache</td>\n",
       "    </tr>\n",
       "    <tr>\n",
       "      <th>...</th>\n",
       "      <td>...</td>\n",
       "      <td>...</td>\n",
       "      <td>...</td>\n",
       "      <td>...</td>\n",
       "    </tr>\n",
       "    <tr>\n",
       "      <th>4649436</th>\n",
       "      <td>CID000003461</td>\n",
       "      <td>CID000003954</td>\n",
       "      <td>C0149871</td>\n",
       "      <td>deep vein thromboses</td>\n",
       "    </tr>\n",
       "    <tr>\n",
       "      <th>4649437</th>\n",
       "      <td>CID000003461</td>\n",
       "      <td>CID000003954</td>\n",
       "      <td>C0035410</td>\n",
       "      <td>rhabdomyolysis</td>\n",
       "    </tr>\n",
       "    <tr>\n",
       "      <th>4649438</th>\n",
       "      <td>CID000003461</td>\n",
       "      <td>CID000003954</td>\n",
       "      <td>C0043096</td>\n",
       "      <td>loss of weight</td>\n",
       "    </tr>\n",
       "    <tr>\n",
       "      <th>4649439</th>\n",
       "      <td>CID000003461</td>\n",
       "      <td>CID000003954</td>\n",
       "      <td>C0003962</td>\n",
       "      <td>ascites</td>\n",
       "    </tr>\n",
       "    <tr>\n",
       "      <th>4649440</th>\n",
       "      <td>CID000003461</td>\n",
       "      <td>CID000003954</td>\n",
       "      <td>C0038999</td>\n",
       "      <td>bulging</td>\n",
       "    </tr>\n",
       "  </tbody>\n",
       "</table>\n",
       "<p>4649441 rows × 4 columns</p>\n",
       "</div>"
      ],
      "text/plain": [
       "             STITCH 1      STITCH 2 Polypharmacy Side Effect  \\\n",
       "0        CID000002173  CID000003345                 C0151714   \n",
       "1        CID000002173  CID000003345                 C0035344   \n",
       "2        CID000002173  CID000003345                 C0004144   \n",
       "3        CID000002173  CID000003345                 C0002063   \n",
       "4        CID000002173  CID000003345                 C0004604   \n",
       "...               ...           ...                      ...   \n",
       "4649436  CID000003461  CID000003954                 C0149871   \n",
       "4649437  CID000003461  CID000003954                 C0035410   \n",
       "4649438  CID000003461  CID000003954                 C0043096   \n",
       "4649439  CID000003461  CID000003954                 C0003962   \n",
       "4649440  CID000003461  CID000003954                 C0038999   \n",
       "\n",
       "                   Side Effect Name  \n",
       "0                   hypermagnesemia  \n",
       "1        retinopathy of prematurity  \n",
       "2                       atelectasis  \n",
       "3                         alkalosis  \n",
       "4                         Back Ache  \n",
       "...                             ...  \n",
       "4649436        deep vein thromboses  \n",
       "4649437              rhabdomyolysis  \n",
       "4649438              loss of weight  \n",
       "4649439                     ascites  \n",
       "4649440                     bulging  \n",
       "\n",
       "[4649441 rows x 4 columns]"
      ]
     },
     "execution_count": 11,
     "metadata": {},
     "output_type": "execute_result"
    }
   ],
   "source": [
    "combo=pd.read_csv('data Leskovec/bio-decagon-combo.csv')\n",
    "combo"
   ]
  },
  {
   "cell_type": "code",
   "execution_count": 12,
   "metadata": {},
   "outputs": [
    {
     "data": {
      "text/plain": [
       "CID000000853    68416\n",
       "CID000002083    65709\n",
       "CID000001983    62959\n",
       "CID000002771    55784\n",
       "CID000002662    54811\n",
       "                ...  \n",
       "CID000002673       12\n",
       "CID000150610       10\n",
       "CID005282044       10\n",
       "CID000002551        7\n",
       "CID000051634        6\n",
       "Name: STITCH 1, Length: 616, dtype: int64"
      ]
     },
     "execution_count": 12,
     "metadata": {},
     "output_type": "execute_result"
    }
   ],
   "source": [
    "combo['STITCH 1'].value_counts()"
   ]
  },
  {
   "cell_type": "code",
   "execution_count": 13,
   "metadata": {},
   "outputs": [
    {
     "data": {
      "text/plain": [
       "CID000005732    56959\n",
       "CID000005090    51484\n",
       "CID000062924    49715\n",
       "CID000004900    49484\n",
       "CID000054454    45713\n",
       "                ...  \n",
       "CID000000564       14\n",
       "CID000002800       13\n",
       "CID000039860       12\n",
       "CID000002551        9\n",
       "CID000005482        8\n",
       "Name: STITCH 2, Length: 634, dtype: int64"
      ]
     },
     "execution_count": 13,
     "metadata": {},
     "output_type": "execute_result"
    }
   ],
   "source": [
    "combo['STITCH 2'].value_counts()"
   ]
  },
  {
   "cell_type": "code",
   "execution_count": 14,
   "metadata": {
    "scrolled": true
   },
   "outputs": [
    {
     "data": {
      "text/plain": [
       "C0020649    28568\n",
       "C0002871    27006\n",
       "C0013404    26037\n",
       "C0027497    25190\n",
       "C0032285    24430\n",
       "            ...  \n",
       "C0013336        2\n",
       "C0162678        2\n",
       "C0011593        2\n",
       "C0014935        2\n",
       "C0034494        1\n",
       "Name: Polypharmacy Side Effect, Length: 1317, dtype: int64"
      ]
     },
     "execution_count": 14,
     "metadata": {},
     "output_type": "execute_result"
    }
   ],
   "source": [
    "combo['Polypharmacy Side Effect'].value_counts()"
   ]
  },
  {
   "cell_type": "code",
   "execution_count": 15,
   "metadata": {},
   "outputs": [
    {
     "data": {
      "text/plain": [
       "arterial pressure NOS decreased    28568\n",
       "anaemia                            27006\n",
       "Difficulty breathing               26037\n",
       "nausea                             25190\n",
       "neumonia                           24430\n",
       "                                   ...  \n",
       "neurofibromatosis                      2\n",
       "skin abrasion                          2\n",
       "hypogonadotropic hypogonadism          2\n",
       "dwarfism                               2\n",
       "rabies                                 1\n",
       "Name: Side Effect Name, Length: 1317, dtype: int64"
      ]
     },
     "execution_count": 15,
     "metadata": {},
     "output_type": "execute_result"
    }
   ],
   "source": [
    "combo['Side Effect Name'].value_counts()"
   ]
  },
  {
   "cell_type": "markdown",
   "metadata": {},
   "source": [
    "In this dataframe, we can see 616 diffent drugs as STITCH 1 and 634 diffent drugs as STITCH 2. Also, Polypharmacy Side Effect and Side Effect Name are 1317 and the observations are 4649441"
   ]
  },
  {
   "cell_type": "markdown",
   "metadata": {},
   "source": [
    "### 5.Side effects of individual drugs in the form of (drug A, side effect type) tuples."
   ]
  },
  {
   "cell_type": "code",
   "execution_count": 16,
   "metadata": {},
   "outputs": [
    {
     "data": {
      "text/html": [
       "<div>\n",
       "<style scoped>\n",
       "    .dataframe tbody tr th:only-of-type {\n",
       "        vertical-align: middle;\n",
       "    }\n",
       "\n",
       "    .dataframe tbody tr th {\n",
       "        vertical-align: top;\n",
       "    }\n",
       "\n",
       "    .dataframe thead th {\n",
       "        text-align: right;\n",
       "    }\n",
       "</style>\n",
       "<table border=\"1\" class=\"dataframe\">\n",
       "  <thead>\n",
       "    <tr style=\"text-align: right;\">\n",
       "      <th></th>\n",
       "      <th>STITCH</th>\n",
       "      <th>Individual Side Effect</th>\n",
       "      <th>Side Effect Name</th>\n",
       "    </tr>\n",
       "  </thead>\n",
       "  <tbody>\n",
       "    <tr>\n",
       "      <th>0</th>\n",
       "      <td>CID003062316</td>\n",
       "      <td>C1096328</td>\n",
       "      <td>central nervous system mass</td>\n",
       "    </tr>\n",
       "    <tr>\n",
       "      <th>1</th>\n",
       "      <td>CID003062316</td>\n",
       "      <td>C0162830</td>\n",
       "      <td>Photosensitivity reaction</td>\n",
       "    </tr>\n",
       "    <tr>\n",
       "      <th>2</th>\n",
       "      <td>CID003062316</td>\n",
       "      <td>C1611725</td>\n",
       "      <td>leukaemic infiltration brain</td>\n",
       "    </tr>\n",
       "    <tr>\n",
       "      <th>3</th>\n",
       "      <td>CID003062316</td>\n",
       "      <td>C0541767</td>\n",
       "      <td>platelet adhesiveness abnormal</td>\n",
       "    </tr>\n",
       "    <tr>\n",
       "      <th>4</th>\n",
       "      <td>CID003062316</td>\n",
       "      <td>C0242973</td>\n",
       "      <td>Ventricular dysfunction</td>\n",
       "    </tr>\n",
       "    <tr>\n",
       "      <th>...</th>\n",
       "      <td>...</td>\n",
       "      <td>...</td>\n",
       "      <td>...</td>\n",
       "    </tr>\n",
       "    <tr>\n",
       "      <th>174972</th>\n",
       "      <td>CID005282226</td>\n",
       "      <td>C1096278</td>\n",
       "      <td>anterior chamber inflammation</td>\n",
       "    </tr>\n",
       "    <tr>\n",
       "      <th>174973</th>\n",
       "      <td>CID005282226</td>\n",
       "      <td>C0272412</td>\n",
       "      <td>splenic abscess</td>\n",
       "    </tr>\n",
       "    <tr>\n",
       "      <th>174974</th>\n",
       "      <td>CID005282226</td>\n",
       "      <td>C0860013</td>\n",
       "      <td>hepatitis b antibody positive</td>\n",
       "    </tr>\n",
       "    <tr>\n",
       "      <th>174975</th>\n",
       "      <td>CID005282226</td>\n",
       "      <td>C0853225</td>\n",
       "      <td>international normalised ratio increased</td>\n",
       "    </tr>\n",
       "    <tr>\n",
       "      <th>174976</th>\n",
       "      <td>CID005282226</td>\n",
       "      <td>C1112371</td>\n",
       "      <td>Anterior chamber pigmentation</td>\n",
       "    </tr>\n",
       "  </tbody>\n",
       "</table>\n",
       "<p>174977 rows × 3 columns</p>\n",
       "</div>"
      ],
      "text/plain": [
       "              STITCH Individual Side Effect  \\\n",
       "0       CID003062316               C1096328   \n",
       "1       CID003062316               C0162830   \n",
       "2       CID003062316               C1611725   \n",
       "3       CID003062316               C0541767   \n",
       "4       CID003062316               C0242973   \n",
       "...              ...                    ...   \n",
       "174972  CID005282226               C1096278   \n",
       "174973  CID005282226               C0272412   \n",
       "174974  CID005282226               C0860013   \n",
       "174975  CID005282226               C0853225   \n",
       "174976  CID005282226               C1112371   \n",
       "\n",
       "                                Side Effect Name  \n",
       "0                    central nervous system mass  \n",
       "1                      Photosensitivity reaction  \n",
       "2                   leukaemic infiltration brain  \n",
       "3                 platelet adhesiveness abnormal  \n",
       "4                        Ventricular dysfunction  \n",
       "...                                          ...  \n",
       "174972             anterior chamber inflammation  \n",
       "174973                           splenic abscess  \n",
       "174974             hepatitis b antibody positive  \n",
       "174975  international normalised ratio increased  \n",
       "174976             Anterior chamber pigmentation  \n",
       "\n",
       "[174977 rows x 3 columns]"
      ]
     },
     "execution_count": 16,
     "metadata": {},
     "output_type": "execute_result"
    }
   ],
   "source": [
    "mono=pd.read_csv('data Leskovec/bio-decagon-mono.csv')\n",
    "mono"
   ]
  },
  {
   "cell_type": "code",
   "execution_count": 17,
   "metadata": {},
   "outputs": [
    {
     "data": {
      "text/plain": [
       "CID000068740    1550\n",
       "CID000004674    1515\n",
       "CID000005538    1229\n",
       "CID000000444    1186\n",
       "CID000005064    1045\n",
       "                ... \n",
       "CID000072938      29\n",
       "CID000004913      25\n",
       "CID000005482      19\n",
       "CID000002551      10\n",
       "CID000003278       5\n",
       "Name: STITCH, Length: 639, dtype: int64"
      ]
     },
     "execution_count": 17,
     "metadata": {},
     "output_type": "execute_result"
    }
   ],
   "source": [
    "mono.STITCH.value_counts()"
   ]
  },
  {
   "cell_type": "code",
   "execution_count": 18,
   "metadata": {},
   "outputs": [
    {
     "data": {
      "text/plain": [
       "C0877211    301\n",
       "C1167981    279\n",
       "C0856054    278\n",
       "C0040440    276\n",
       "C0700361    275\n",
       "           ... \n",
       "C1535944      1\n",
       "C2363894      1\n",
       "C0195488      1\n",
       "C0861100      1\n",
       "C0577598      1\n",
       "Name: Individual Side Effect, Length: 10184, dtype: int64"
      ]
     },
     "execution_count": 18,
     "metadata": {},
     "output_type": "execute_result"
    }
   ],
   "source": [
    "mono['Individual Side Effect'].value_counts()"
   ]
  },
  {
   "cell_type": "code",
   "execution_count": 19,
   "metadata": {},
   "outputs": [
    {
     "data": {
      "text/plain": [
       "general physical health deterioration    301\n",
       "hypoaesthesia                            279\n",
       "mental status changes                    278\n",
       "tooth extraction                         276\n",
       "emotional distress                       275\n",
       "                                        ... \n",
       "hypertrophic osteoarthropathy              1\n",
       "cryptococcus antigen positive              1\n",
       "Eczema eyelids                             1\n",
       "Protein total decreased                    1\n",
       "immunisation                               1\n",
       "Name: Side Effect Name, Length: 9702, dtype: int64"
      ]
     },
     "execution_count": 19,
     "metadata": {},
     "output_type": "execute_result"
    }
   ],
   "source": [
    "mono['Side Effect Name'].value_counts()"
   ]
  },
  {
   "cell_type": "markdown",
   "metadata": {},
   "source": [
    "This table has 174977 rows and 639 drugs as STITCH. Also, the columns Individual Side Effect and Side Effect Name have \n",
    "10184 and 9702 observations respectively."
   ]
  },
  {
   "cell_type": "markdown",
   "metadata": {},
   "source": [
    "### 6.Side effect categories"
   ]
  },
  {
   "cell_type": "code",
   "execution_count": 20,
   "metadata": {},
   "outputs": [
    {
     "data": {
      "text/html": [
       "<div>\n",
       "<style scoped>\n",
       "    .dataframe tbody tr th:only-of-type {\n",
       "        vertical-align: middle;\n",
       "    }\n",
       "\n",
       "    .dataframe tbody tr th {\n",
       "        vertical-align: top;\n",
       "    }\n",
       "\n",
       "    .dataframe thead th {\n",
       "        text-align: right;\n",
       "    }\n",
       "</style>\n",
       "<table border=\"1\" class=\"dataframe\">\n",
       "  <thead>\n",
       "    <tr style=\"text-align: right;\">\n",
       "      <th></th>\n",
       "      <th>Side Effect</th>\n",
       "      <th>Side Effect Name</th>\n",
       "      <th>Disease Class</th>\n",
       "    </tr>\n",
       "  </thead>\n",
       "  <tbody>\n",
       "    <tr>\n",
       "      <th>0</th>\n",
       "      <td>C0017152</td>\n",
       "      <td>gastric inflammation</td>\n",
       "      <td>gastrointestinal system disease</td>\n",
       "    </tr>\n",
       "    <tr>\n",
       "      <th>1</th>\n",
       "      <td>C0027858</td>\n",
       "      <td>neuroma</td>\n",
       "      <td>benign neoplasm</td>\n",
       "    </tr>\n",
       "    <tr>\n",
       "      <th>2</th>\n",
       "      <td>C0041466</td>\n",
       "      <td>Typhoid</td>\n",
       "      <td>bacterial infectious disease</td>\n",
       "    </tr>\n",
       "    <tr>\n",
       "      <th>3</th>\n",
       "      <td>C0032807</td>\n",
       "      <td>Post thrombotic syndrome</td>\n",
       "      <td>cardiovascular system disease</td>\n",
       "    </tr>\n",
       "    <tr>\n",
       "      <th>4</th>\n",
       "      <td>C0033860</td>\n",
       "      <td>psoriasis</td>\n",
       "      <td>integumentary system disease</td>\n",
       "    </tr>\n",
       "    <tr>\n",
       "      <th>...</th>\n",
       "      <td>...</td>\n",
       "      <td>...</td>\n",
       "      <td>...</td>\n",
       "    </tr>\n",
       "    <tr>\n",
       "      <th>556</th>\n",
       "      <td>C0001816</td>\n",
       "      <td>agnosia</td>\n",
       "      <td>developmental disorder of mental health</td>\n",
       "    </tr>\n",
       "    <tr>\n",
       "      <th>557</th>\n",
       "      <td>C0302592</td>\n",
       "      <td>carcinoma of the cervix</td>\n",
       "      <td>cancer</td>\n",
       "    </tr>\n",
       "    <tr>\n",
       "      <th>558</th>\n",
       "      <td>C0270629</td>\n",
       "      <td>epidural abscess</td>\n",
       "      <td>nervous system disease</td>\n",
       "    </tr>\n",
       "    <tr>\n",
       "      <th>559</th>\n",
       "      <td>C0038220</td>\n",
       "      <td>status epilepticus</td>\n",
       "      <td>nervous system disease</td>\n",
       "    </tr>\n",
       "    <tr>\n",
       "      <th>560</th>\n",
       "      <td>C0042996</td>\n",
       "      <td>vulvitis</td>\n",
       "      <td>reproductive system disease</td>\n",
       "    </tr>\n",
       "  </tbody>\n",
       "</table>\n",
       "<p>561 rows × 3 columns</p>\n",
       "</div>"
      ],
      "text/plain": [
       "    Side Effect          Side Effect Name  \\\n",
       "0      C0017152      gastric inflammation   \n",
       "1      C0027858                   neuroma   \n",
       "2      C0041466                   Typhoid   \n",
       "3      C0032807  Post thrombotic syndrome   \n",
       "4      C0033860                 psoriasis   \n",
       "..          ...                       ...   \n",
       "556    C0001816                   agnosia   \n",
       "557    C0302592   carcinoma of the cervix   \n",
       "558    C0270629          epidural abscess   \n",
       "559    C0038220        status epilepticus   \n",
       "560    C0042996                  vulvitis   \n",
       "\n",
       "                               Disease Class  \n",
       "0            gastrointestinal system disease  \n",
       "1                            benign neoplasm  \n",
       "2               bacterial infectious disease  \n",
       "3              cardiovascular system disease  \n",
       "4               integumentary system disease  \n",
       "..                                       ...  \n",
       "556  developmental disorder of mental health  \n",
       "557                                   cancer  \n",
       "558                   nervous system disease  \n",
       "559                   nervous system disease  \n",
       "560              reproductive system disease  \n",
       "\n",
       "[561 rows x 3 columns]"
      ]
     },
     "execution_count": 20,
     "metadata": {},
     "output_type": "execute_result"
    }
   ],
   "source": [
    "effectcategories=pd.read_csv('data Leskovec/bio-decagon-effectcategories.csv')\n",
    "effectcategories"
   ]
  },
  {
   "cell_type": "code",
   "execution_count": 21,
   "metadata": {},
   "outputs": [
    {
     "data": {
      "text/plain": [
       "C0024110    1\n",
       "C0033845    1\n",
       "C0035304    1\n",
       "C0007177    1\n",
       "C0006826    1\n",
       "           ..\n",
       "C0005695    1\n",
       "C0162423    1\n",
       "C0033578    1\n",
       "C0024198    1\n",
       "C0013537    1\n",
       "Name: Side Effect, Length: 561, dtype: int64"
      ]
     },
     "execution_count": 21,
     "metadata": {},
     "output_type": "execute_result"
    }
   ],
   "source": [
    "effectcategories['Side Effect'].value_counts()"
   ]
  },
  {
   "cell_type": "code",
   "execution_count": 22,
   "metadata": {},
   "outputs": [
    {
     "data": {
      "text/plain": [
       "amyloidosis          1\n",
       "histoplasmosis       1\n",
       "acute bronchitis     1\n",
       "bone sarcoma         1\n",
       "thrombocytopenia     1\n",
       "                    ..\n",
       "chronic hepatitis    1\n",
       "mucositis oral       1\n",
       "anogenital warts     1\n",
       "Collagen disease     1\n",
       "Rubella              1\n",
       "Name: Side Effect Name, Length: 561, dtype: int64"
      ]
     },
     "execution_count": 22,
     "metadata": {},
     "output_type": "execute_result"
    }
   ],
   "source": [
    "effectcategories['Side Effect Name'].value_counts()"
   ]
  },
  {
   "cell_type": "code",
   "execution_count": 23,
   "metadata": {},
   "outputs": [
    {
     "data": {
      "text/plain": [
       "37"
      ]
     },
     "execution_count": 23,
     "metadata": {},
     "output_type": "execute_result"
    }
   ],
   "source": [
    "effectcategories['Disease Class'].value_counts().count()"
   ]
  },
  {
   "cell_type": "code",
   "execution_count": 24,
   "metadata": {},
   "outputs": [
    {
     "data": {
      "text/plain": [
       "37"
      ]
     },
     "execution_count": 24,
     "metadata": {},
     "output_type": "execute_result"
    }
   ],
   "source": [
    "effectcategories['Disease Class'].value_counts().count()"
   ]
  },
  {
   "cell_type": "markdown",
   "metadata": {},
   "source": [
    "This dataframe has 561 observations, which they are uniquely 'Side Effect' ids and 'Side Effect Name' as column names, and it has 37 different names in 'Disease Class'."
   ]
  },
  {
   "cell_type": "code",
   "execution_count": null,
   "metadata": {},
   "outputs": [],
   "source": []
  }
 ],
 "metadata": {
  "kernelspec": {
   "display_name": "Python 3",
   "language": "python",
   "name": "python3"
  },
  "language_info": {
   "codemirror_mode": {
    "name": "ipython",
    "version": 3
   },
   "file_extension": ".py",
   "mimetype": "text/x-python",
   "name": "python",
   "nbconvert_exporter": "python",
   "pygments_lexer": "ipython3",
   "version": "3.7.6"
  }
 },
 "nbformat": 4,
 "nbformat_minor": 4
}
